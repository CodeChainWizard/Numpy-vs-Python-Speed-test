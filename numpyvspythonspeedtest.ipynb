{
 "cells": [
  {
   "cell_type": "markdown",
   "metadata": {},
   "source": [
    "# Compare to Algo Numpy and Python Speed test."
   ]
  },
  {
   "cell_type": "code",
   "execution_count": 2,
   "metadata": {},
   "outputs": [],
   "source": [
    "def dot(x,y):\n",
    "    lst = []\n",
    "    for i,w in zip(x,y):\n",
    "        lst.append(i * w)\n",
    "    return(lst)\n",
    "def sq(x):\n",
    "    x = [c ** 2 for c in x]\n",
    "    return(x)\n",
    "class LinearRegression:\n",
    "    def __init__(self,x,y):\n",
    "        # a = ((∑y)(∑x^2)-(∑x)(∑xy)) / (n(∑x^2) - (∑x)^2)\n",
    "        # b = (x(∑xy) - (∑x)(∑y)) / n(∑x^2) - (∑x)^2\n",
    "        if len(x) != len(y):\n",
    "            pass\n",
    "        # Get our Summations:\n",
    "        Σx = sum(x)\n",
    "        Σy = sum(y)\n",
    "        # dot x and y\n",
    "        xy = dot(x,y)\n",
    "        # ∑dot x and y\n",
    "        Σxy = sum(xy)\n",
    "        # dotsquare x\n",
    "        x2 = sq(x)\n",
    "        # ∑ dotsquare x\n",
    "        Σx2 = sum(x2)\n",
    "        # n = sample size\n",
    "        n = len(x)\n",
    "        # Calculate a\n",
    "        self.a = (((Σy) * (Σx2)) - ((Σx * (Σxy)))) / ((n * (Σx2))-(Σx**2))\n",
    "        # Calculate b\n",
    "        self.b = ((n*(Σxy)) - (Σx * Σy)) / ((n * (Σx2)) - (Σx ** 2))\n",
    "        # The part that is super struct:\n",
    "    def predict(self,xt):\n",
    "        xt = [self.a + (self.b * i) for i in xt]\n",
    "        return(xt)"
   ]
  },
  {
   "cell_type": "code",
   "execution_count": 3,
   "metadata": {},
   "outputs": [],
   "source": [
    "d = LinearRegression([5,10,15], [20,30,40]);"
   ]
  },
  {
   "cell_type": "code",
   "execution_count": 4,
   "metadata": {},
   "outputs": [],
   "source": [
    "import pandas as pd;"
   ]
  },
  {
   "cell_type": "code",
   "execution_count": 6,
   "metadata": {},
   "outputs": [
    {
     "data": {
      "text/html": [
       "<div>\n",
       "<style scoped>\n",
       "    .dataframe tbody tr th:only-of-type {\n",
       "        vertical-align: middle;\n",
       "    }\n",
       "\n",
       "    .dataframe tbody tr th {\n",
       "        vertical-align: top;\n",
       "    }\n",
       "\n",
       "    .dataframe thead th {\n",
       "        text-align: right;\n",
       "    }\n",
       "</style>\n",
       "<table border=\"1\" class=\"dataframe\">\n",
       "  <thead>\n",
       "    <tr style=\"text-align: right;\">\n",
       "      <th></th>\n",
       "      <th>PassengerId</th>\n",
       "      <th>Survived</th>\n",
       "      <th>Pclass</th>\n",
       "      <th>Name</th>\n",
       "      <th>Sex</th>\n",
       "      <th>Age</th>\n",
       "      <th>SibSp</th>\n",
       "      <th>Parch</th>\n",
       "      <th>Ticket</th>\n",
       "      <th>Fare</th>\n",
       "      <th>Cabin</th>\n",
       "      <th>Embarked</th>\n",
       "    </tr>\n",
       "  </thead>\n",
       "  <tbody>\n",
       "    <tr>\n",
       "      <th>0</th>\n",
       "      <td>1</td>\n",
       "      <td>0</td>\n",
       "      <td>3</td>\n",
       "      <td>Braund, Mr. Owen Harris</td>\n",
       "      <td>male</td>\n",
       "      <td>22.0</td>\n",
       "      <td>1</td>\n",
       "      <td>0</td>\n",
       "      <td>A/5 21171</td>\n",
       "      <td>7.2500</td>\n",
       "      <td>NaN</td>\n",
       "      <td>S</td>\n",
       "    </tr>\n",
       "    <tr>\n",
       "      <th>1</th>\n",
       "      <td>2</td>\n",
       "      <td>1</td>\n",
       "      <td>1</td>\n",
       "      <td>Cumings, Mrs. John Bradley (Florence Briggs Th...</td>\n",
       "      <td>female</td>\n",
       "      <td>38.0</td>\n",
       "      <td>1</td>\n",
       "      <td>0</td>\n",
       "      <td>PC 17599</td>\n",
       "      <td>71.2833</td>\n",
       "      <td>C85</td>\n",
       "      <td>C</td>\n",
       "    </tr>\n",
       "  </tbody>\n",
       "</table>\n",
       "</div>"
      ],
      "text/plain": [
       "   PassengerId  Survived  Pclass  \\\n",
       "0            1         0       3   \n",
       "1            2         1       1   \n",
       "\n",
       "                                                Name     Sex   Age  SibSp  \\\n",
       "0                            Braund, Mr. Owen Harris    male  22.0      1   \n",
       "1  Cumings, Mrs. John Bradley (Florence Briggs Th...  female  38.0      1   \n",
       "\n",
       "   Parch     Ticket     Fare Cabin Embarked  \n",
       "0      0  A/5 21171   7.2500   NaN        S  \n",
       "1      0   PC 17599  71.2833   C85        C  "
      ]
     },
     "execution_count": 6,
     "metadata": {},
     "output_type": "execute_result"
    }
   ],
   "source": [
    "df = pd.read_csv(\"train.csv\")\n",
    "testdf = pd.read_csv(\"speedtest.csv\")\n",
    "\n",
    "df.head(2)"
   ]
  },
  {
   "cell_type": "code",
   "execution_count": null,
   "metadata": {},
   "outputs": [],
   "source": [
    "%timeit yhat = LinearRegression(df['X'], df['Y']).predict(testdf['X'])\n",
    "\n",
    "# Output:- 8.22 s ± 322 ms per loop (mean ± std. dev. of 7 runs, 1 loop each)"
   ]
  },
  {
   "cell_type": "code",
   "execution_count": 8,
   "metadata": {},
   "outputs": [],
   "source": [
    "import numpy as np\n",
    "class npLinearRegression:\n",
    "    def __init__(self,x,y):\n",
    "        # a = ((∑y)(∑x^2)-(∑x)(∑xy)) / (n(∑x^2) - (∑x)^2)\n",
    "        # b = (x(∑xy) - (∑x)(∑y)) / n(∑x^2) - (∑x)^2\n",
    "        if len(x) != len(y):\n",
    "            pass\n",
    "        # Get our Summations:\n",
    "        Σx = sum(x)\n",
    "        Σy = sum(y)\n",
    "        # dot x and y\n",
    "        xy = np.multiply(x,y)\n",
    "        # ∑dot x and y\n",
    "        Σxy = sum(xy)\n",
    "        # dotsquare x\n",
    "        x2 = np.square(x)\n",
    "        # ∑ dotsquare x\n",
    "        Σx2 = sum(x2)\n",
    "        # n = sample size\n",
    "        n = len(x)\n",
    "        # Calculate a\n",
    "        self.a = (((Σy) * (Σx2)) - ((Σx * (Σxy)))) / ((n * (Σx2))-(Σx**2))\n",
    "        # Calculate b\n",
    "        self.b = ((n*(Σxy)) - (Σx * Σy)) / ((n * (Σx2)) - (Σx ** 2))\n",
    "        # The part that is super struct:\n",
    "    def predict(self,xt):\n",
    "        xt = [self.a + (self.b * i) for i in xt]\n",
    "        return(xt)"
   ]
  },
  {
   "cell_type": "code",
   "execution_count": null,
   "metadata": {},
   "outputs": [],
   "source": [
    "%timeit yhat = npLinearRegression(df['X'],df['Y']).predict(testdf['X'])\n",
    "\n",
    "# Output:- 4.94 s ± 75.6 ms per loop (mean ± std. dev. of 7 runs, 1 loop each)"
   ]
  },
  {
   "cell_type": "code",
   "execution_count": null,
   "metadata": {},
   "outputs": [],
   "source": []
  }
 ],
 "metadata": {
  "kernelspec": {
   "display_name": "Python 3",
   "language": "python",
   "name": "python3"
  },
  "language_info": {
   "codemirror_mode": {
    "name": "ipython",
    "version": 3
   },
   "file_extension": ".py",
   "mimetype": "text/x-python",
   "name": "python",
   "nbconvert_exporter": "python",
   "pygments_lexer": "ipython3",
   "version": "3.12.3"
  }
 },
 "nbformat": 4,
 "nbformat_minor": 2
}
